{
 "cells": [
  {
   "cell_type": "code",
   "execution_count": 2,
   "metadata": {},
   "outputs": [
    {
     "name": "stdout",
     "output_type": "stream",
     "text": [
      "{title: Gracia Sublime es}\n",
      "{artist: Open}\n",
      "[B]Quien rompe [Bsus-B]el poder     del pecado\n",
      "[E]su amor es[Esus-E]fuerte  y poderoso\n",
      "[G#m]El rey de gloria[F#] el rey de majesta[E]d\n",
      "\n",
      "[B] Conmueve al[Bsus-B]mundo con su estruendo\n",
      "[E] Y nos aso[Esus-E]mbra con maravillas\n",
      "[G#m]    El rey de gloria[F#] el rey de majesta[E]d\n",
      "[CORO]B                     E\n",
      "Gracia sublime es,   perfecto es tu amor\n",
      "Tomaste mi lugar[G#m]     cargaste tu mi c[F#]ruz\n",
      "Tu vida diste ah[B]Ã­ y ahora libre s[E]oy\n",
      "[G#m]JesÃºs te adoro [F#]    por lo que hiciste en m[E]Ã­\n",
      "\n",
      "[B]Pusiste en o[Bsus-B]rden todo el caos\n",
      "[E]Nos adopt[Esus-E]aste  como tus hijos\n",
      "[G#m]   El rey de gloria[F#] el rey de majest[E]ad\n",
      "\n",
      "\n",
      "[B]El que gob[Bsus-B]ierna con su justicia\n",
      "[E] Y resplan[Esus-E]dece con su belleza\n",
      "[G#m]    El rey de gloria[F#] el rey de majest[E]ad\n"
     ]
    },
    {
     "ename": "TypeError",
     "evalue": "isinstance() arg 2 must be a type or tuple of types",
     "output_type": "error",
     "traceback": [
      "\u001b[1;31m---------------------------------------------------------------------------\u001b[0m",
      "\u001b[1;31mTypeError\u001b[0m                                 Traceback (most recent call last)",
      "Cell \u001b[1;32mIn[2], line 18\u001b[0m\n\u001b[0;32m     16\u001b[0m \u001b[38;5;28;01mfor\u001b[39;00m line \u001b[38;5;129;01min\u001b[39;00m parsed_song:\n\u001b[0;32m     17\u001b[0m     \u001b[38;5;28;01mfor\u001b[39;00m element \u001b[38;5;129;01min\u001b[39;00m line:\n\u001b[1;32m---> 18\u001b[0m         \u001b[38;5;28;01mif\u001b[39;00m \u001b[38;5;28;43misinstance\u001b[39;49m\u001b[43m(\u001b[49m\u001b[43melement\u001b[49m\u001b[43m,\u001b[49m\u001b[43m \u001b[49m\u001b[43mpychordpro\u001b[49m\u001b[38;5;241;43m.\u001b[39;49m\u001b[43mSong\u001b[49m\u001b[38;5;241;43m.\u001b[39;49m\u001b[43mdump_chords\u001b[49m\u001b[43m)\u001b[49m:\n\u001b[0;32m     19\u001b[0m             chords\u001b[38;5;241m.\u001b[39mappend(\u001b[38;5;124mf\u001b[39m\u001b[38;5;124m\"\u001b[39m\u001b[38;5;124m[\u001b[39m\u001b[38;5;132;01m{\u001b[39;00melement\u001b[38;5;241m.\u001b[39mname\u001b[38;5;132;01m}\u001b[39;00m\u001b[38;5;124m]\u001b[39m\u001b[38;5;124m\"\u001b[39m)\n\u001b[0;32m     20\u001b[0m         \u001b[38;5;28;01mif\u001b[39;00m \u001b[38;5;28misinstance\u001b[39m(element, pychordpro\u001b[38;5;241m.\u001b[39mSong\u001b[38;5;241m.\u001b[39mdump_chords_text):\n",
      "\u001b[1;31mTypeError\u001b[0m: isinstance() arg 2 must be a type or tuple of types"
     ]
    },
    {
     "ename": "",
     "evalue": "",
     "output_type": "error",
     "traceback": [
      "\u001b[1;31mThe Kernel crashed while executing code in the current cell or a previous cell. \n",
      "\u001b[1;31mPlease review the code in the cell(s) to identify a possible cause of the failure. \n",
      "\u001b[1;31mClick <a href='https://aka.ms/vscodeJupyterKernelCrash'>here</a> for more info. \n",
      "\u001b[1;31mView Jupyter <a href='command:jupyter.viewOutput'>log</a> for further details."
     ]
    }
   ],
   "source": [
    "import pychordpro\n",
    "from tkinter import filedialog\n",
    "\n",
    "file_path = filedialog.askopenfilename(filetypes=[(\"ChordPro files\", \"*.pro *.chopro\")])\n",
    "if not file_path:\n",
    "    print(\"nonlocal\")\n",
    "\n",
    "with open(file_path, 'r') as file:\n",
    "    content = file.read()\n",
    "print(content)\n",
    "\n",
    "parsed_song = content\n",
    "\n",
    "lyrics = []\n",
    "chords = []\n",
    "for line in parsed_song:\n",
    "    for element in line:\n",
    "        if isinstance(element, pychordpro.Song.dump_chords):\n",
    "            chords.append(f\"[{element.name}]\")\n",
    "        if isinstance(element, pychordpro.Song.dump_chords_text):\n",
    "            lyrics.append(element.text)\n"
   ]
  }
 ],
 "metadata": {
  "kernelspec": {
   "display_name": "Python 3",
   "language": "python",
   "name": "python3"
  },
  "language_info": {
   "codemirror_mode": {
    "name": "ipython",
    "version": 3
   },
   "file_extension": ".py",
   "mimetype": "text/x-python",
   "name": "python",
   "nbconvert_exporter": "python",
   "pygments_lexer": "ipython3",
   "version": "3.9.13"
  }
 },
 "nbformat": 4,
 "nbformat_minor": 2
}
